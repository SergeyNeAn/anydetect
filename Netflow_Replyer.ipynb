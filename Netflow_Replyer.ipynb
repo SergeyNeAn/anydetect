{
 "cells": [
  {
   "cell_type": "code",
   "execution_count": 1,
   "metadata": {},
   "outputs": [
    {
     "name": "stdout",
     "output_type": "stream",
     "text": [
      "\n",
      "Replay successful\n"
     ]
    }
   ],
   "source": [
    "import subprocess\n",
    "\n",
    "def replay_nfcapd_file(file_path, destination_ip, destination_port):\n",
    "    try:\n",
    "        result = subprocess.run([\n",
    "            'nfreplay', \n",
    "            '-r', file_path, \n",
    "            '-H', destination_ip, \n",
    "            '-p', str(destination_port),\n",
    "            '-d', '10000',\n",
    "            '-v','9'\n",
    "        ], capture_output=True, text=True)\n",
    "        \n",
    "        if result.returncode == 0:\n",
    "            print(result.stdout)\n",
    "            print(\"Replay successful\")\n",
    "        else:\n",
    "            print(f\"Error during replay: {result.stderr}\")\n",
    "    except Exception as e:\n",
    "        print(f\"An error occurred: {e}\")\n",
    "\n",
    "# Пример использования\n",
    "replay_nfcapd_file('nfcapd.202409252000', '127.0.0.1', 2055)"
   ]
  },
  {
   "cell_type": "code",
   "execution_count": null,
   "metadata": {},
   "outputs": [],
   "source": []
  },
  {
   "cell_type": "code",
   "execution_count": null,
   "metadata": {},
   "outputs": [],
   "source": []
  }
 ],
 "metadata": {
  "kernelspec": {
   "display_name": "base",
   "language": "python",
   "name": "python3"
  },
  "language_info": {
   "codemirror_mode": {
    "name": "ipython",
    "version": 3
   },
   "file_extension": ".py",
   "mimetype": "text/x-python",
   "name": "python",
   "nbconvert_exporter": "python",
   "pygments_lexer": "ipython3",
   "version": "3.9.10"
  }
 },
 "nbformat": 4,
 "nbformat_minor": 2
}
